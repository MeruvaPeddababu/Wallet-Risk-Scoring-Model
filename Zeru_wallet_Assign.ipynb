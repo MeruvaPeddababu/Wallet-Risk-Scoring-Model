{
  "nbformat": 4,
  "nbformat_minor": 0,
  "metadata": {
    "colab": {
      "provenance": []
    },
    "kernelspec": {
      "name": "python3",
      "display_name": "Python 3"
    },
    "language_info": {
      "name": "python"
    }
  },
  "cells": [
    {
      "cell_type": "markdown",
      "source": [
        "# **Step 1: Install and Import Required Libraries**"
      ],
      "metadata": {
        "id": "265eyrIvawzN"
      }
    },
    {
      "cell_type": "code",
      "source": [
        "!pip install requests pandas tqdm\n"
      ],
      "metadata": {
        "colab": {
          "base_uri": "https://localhost:8080/"
        },
        "id": "wBW0tIh9V4xf",
        "outputId": "33494a9a-78de-4e57-a44d-2ff5e1196e08"
      },
      "execution_count": 4,
      "outputs": [
        {
          "output_type": "stream",
          "name": "stdout",
          "text": [
            "Requirement already satisfied: requests in /usr/local/lib/python3.11/dist-packages (2.32.3)\n",
            "Requirement already satisfied: pandas in /usr/local/lib/python3.11/dist-packages (2.2.2)\n",
            "Requirement already satisfied: tqdm in /usr/local/lib/python3.11/dist-packages (4.67.1)\n",
            "Requirement already satisfied: charset-normalizer<4,>=2 in /usr/local/lib/python3.11/dist-packages (from requests) (3.4.2)\n",
            "Requirement already satisfied: idna<4,>=2.5 in /usr/local/lib/python3.11/dist-packages (from requests) (3.10)\n",
            "Requirement already satisfied: urllib3<3,>=1.21.1 in /usr/local/lib/python3.11/dist-packages (from requests) (2.5.0)\n",
            "Requirement already satisfied: certifi>=2017.4.17 in /usr/local/lib/python3.11/dist-packages (from requests) (2025.7.14)\n",
            "Requirement already satisfied: numpy>=1.23.2 in /usr/local/lib/python3.11/dist-packages (from pandas) (2.0.2)\n",
            "Requirement already satisfied: python-dateutil>=2.8.2 in /usr/local/lib/python3.11/dist-packages (from pandas) (2.9.0.post0)\n",
            "Requirement already satisfied: pytz>=2020.1 in /usr/local/lib/python3.11/dist-packages (from pandas) (2025.2)\n",
            "Requirement already satisfied: tzdata>=2022.7 in /usr/local/lib/python3.11/dist-packages (from pandas) (2025.2)\n",
            "Requirement already satisfied: six>=1.5 in /usr/local/lib/python3.11/dist-packages (from python-dateutil>=2.8.2->pandas) (1.17.0)\n"
          ]
        }
      ]
    },
    {
      "cell_type": "code",
      "source": [
        "import requests\n",
        "import pandas as pd\n",
        "from tqdm import tqdm\n"
      ],
      "metadata": {
        "id": "PjNkEdtKV4uR"
      },
      "execution_count": 5,
      "outputs": []
    },
    {
      "cell_type": "markdown",
      "source": [
        "# **Step 2: Load Wallets URL**"
      ],
      "metadata": {
        "id": "qoIyvVvKbA_d"
      }
    },
    {
      "cell_type": "code",
      "source": [
        "wallets_url = 'https://docs.google.com/spreadsheets/d/1ZzaeMgNYnxvriYYpe8PE7uMEblTI0GV5GIVUnsP-sBs/export?format=csv'\n",
        "wallet_df = pd.read_csv(wallets_url)\n",
        "wallets = wallet_df.iloc[:, 0].tolist()\n",
        "wallets[:5]  # show first 5"
      ],
      "metadata": {
        "colab": {
          "base_uri": "https://localhost:8080/"
        },
        "id": "jYOWyt91V9S_",
        "outputId": "8ff8cd36-d3a3-4f9e-def0-a10edf535f41"
      },
      "execution_count": 6,
      "outputs": [
        {
          "output_type": "execute_result",
          "data": {
            "text/plain": [
              "['0x0039f22efb07a647557c7c5d17854cfd6d489ef3',\n",
              " '0x06b51c6882b27cb05e712185531c1f74996dd988',\n",
              " '0x0795732aacc448030ef374374eaae57d2965c16c',\n",
              " '0x0aaa79f1a86bc8136cd0d1ca0d51964f4e3766f9',\n",
              " '0x0fe383e5abc200055a7f391f94a5f5d1f844b9ae']"
            ]
          },
          "metadata": {},
          "execution_count": 6
        }
      ]
    },
    {
      "cell_type": "markdown",
      "source": [
        "# **Step 3: Fetch Compound V2 Transaction Data (Via DeFiLlama Adapter or Etherscan-like API)**"
      ],
      "metadata": {
        "id": "2tgtADGabOlb"
      }
    },
    {
      "cell_type": "markdown",
      "source": [
        "Since Compound doesn’t offer a simple wallet-based API, we'll use DeFiLlama’s protocol adapter to extract user-level lending/borrowing from Compound V2.\n",
        "\n",
        "We'll simulate user activity with dummy logic here due to API limitations."
      ],
      "metadata": {
        "id": "-PFBAKeEbU9w"
      }
    },
    {
      "cell_type": "code",
      "source": [
        "def mock_compound_data(wallet):\n",
        "    import random\n",
        "    return {\n",
        "        'wallet': wallet,\n",
        "        'total_supplied_usd': round(random.uniform(100, 10000), 2),\n",
        "        'total_borrowed_usd': round(random.uniform(0, 5000), 2),\n",
        "        'reputation_score': random.randint(0, 100)  # Simulated risk feature\n",
        "    }\n"
      ],
      "metadata": {
        "id": "5w3dUZ2kV_Rf"
      },
      "execution_count": 7,
      "outputs": []
    },
    {
      "cell_type": "markdown",
      "source": [
        "# **Step 4: Collect Feature Data for Each Wallet**"
      ],
      "metadata": {
        "id": "Q1K8sGRrbZLu"
      }
    },
    {
      "cell_type": "code",
      "source": [
        "wallet_data = []\n",
        "\n",
        "for wallet in tqdm(wallets):\n",
        "    try:\n",
        "        data = mock_compound_data(wallet)  # Replace with real data later\n",
        "        wallet_data.append(data)\n",
        "    except Exception as e:\n",
        "        print(f\"Error processing {wallet}: {e}\")\n"
      ],
      "metadata": {
        "colab": {
          "base_uri": "https://localhost:8080/"
        },
        "id": "P9ySvW3IWQei",
        "outputId": "60c643bc-a1b9-4363-f8e9-ce99b9ab63bf"
      },
      "execution_count": 8,
      "outputs": [
        {
          "output_type": "stream",
          "name": "stderr",
          "text": [
            "100%|██████████| 103/103 [00:00<00:00, 60219.31it/s]\n"
          ]
        }
      ]
    },
    {
      "cell_type": "code",
      "source": [
        "df = pd.DataFrame(wallet_data)\n",
        "df.head()\n"
      ],
      "metadata": {
        "colab": {
          "base_uri": "https://localhost:8080/",
          "height": 206
        },
        "id": "nTlSqDjRWQiE",
        "outputId": "43b87852-3ace-4112-805b-41dd3bf6af69"
      },
      "execution_count": 9,
      "outputs": [
        {
          "output_type": "execute_result",
          "data": {
            "text/plain": [
              "                                       wallet  total_supplied_usd  \\\n",
              "0  0x0039f22efb07a647557c7c5d17854cfd6d489ef3             6603.20   \n",
              "1  0x06b51c6882b27cb05e712185531c1f74996dd988              823.82   \n",
              "2  0x0795732aacc448030ef374374eaae57d2965c16c             9413.08   \n",
              "3  0x0aaa79f1a86bc8136cd0d1ca0d51964f4e3766f9             1271.33   \n",
              "4  0x0fe383e5abc200055a7f391f94a5f5d1f844b9ae             7525.64   \n",
              "\n",
              "   total_borrowed_usd  reputation_score  \n",
              "0             2119.96                69  \n",
              "1             2527.03                38  \n",
              "2             2675.34                93  \n",
              "3             3622.25                85  \n",
              "4             2997.34                30  "
            ],
            "text/html": [
              "\n",
              "  <div id=\"df-66241ebe-58a8-49a7-8c83-0be9c90a804a\" class=\"colab-df-container\">\n",
              "    <div>\n",
              "<style scoped>\n",
              "    .dataframe tbody tr th:only-of-type {\n",
              "        vertical-align: middle;\n",
              "    }\n",
              "\n",
              "    .dataframe tbody tr th {\n",
              "        vertical-align: top;\n",
              "    }\n",
              "\n",
              "    .dataframe thead th {\n",
              "        text-align: right;\n",
              "    }\n",
              "</style>\n",
              "<table border=\"1\" class=\"dataframe\">\n",
              "  <thead>\n",
              "    <tr style=\"text-align: right;\">\n",
              "      <th></th>\n",
              "      <th>wallet</th>\n",
              "      <th>total_supplied_usd</th>\n",
              "      <th>total_borrowed_usd</th>\n",
              "      <th>reputation_score</th>\n",
              "    </tr>\n",
              "  </thead>\n",
              "  <tbody>\n",
              "    <tr>\n",
              "      <th>0</th>\n",
              "      <td>0x0039f22efb07a647557c7c5d17854cfd6d489ef3</td>\n",
              "      <td>6603.20</td>\n",
              "      <td>2119.96</td>\n",
              "      <td>69</td>\n",
              "    </tr>\n",
              "    <tr>\n",
              "      <th>1</th>\n",
              "      <td>0x06b51c6882b27cb05e712185531c1f74996dd988</td>\n",
              "      <td>823.82</td>\n",
              "      <td>2527.03</td>\n",
              "      <td>38</td>\n",
              "    </tr>\n",
              "    <tr>\n",
              "      <th>2</th>\n",
              "      <td>0x0795732aacc448030ef374374eaae57d2965c16c</td>\n",
              "      <td>9413.08</td>\n",
              "      <td>2675.34</td>\n",
              "      <td>93</td>\n",
              "    </tr>\n",
              "    <tr>\n",
              "      <th>3</th>\n",
              "      <td>0x0aaa79f1a86bc8136cd0d1ca0d51964f4e3766f9</td>\n",
              "      <td>1271.33</td>\n",
              "      <td>3622.25</td>\n",
              "      <td>85</td>\n",
              "    </tr>\n",
              "    <tr>\n",
              "      <th>4</th>\n",
              "      <td>0x0fe383e5abc200055a7f391f94a5f5d1f844b9ae</td>\n",
              "      <td>7525.64</td>\n",
              "      <td>2997.34</td>\n",
              "      <td>30</td>\n",
              "    </tr>\n",
              "  </tbody>\n",
              "</table>\n",
              "</div>\n",
              "    <div class=\"colab-df-buttons\">\n",
              "\n",
              "  <div class=\"colab-df-container\">\n",
              "    <button class=\"colab-df-convert\" onclick=\"convertToInteractive('df-66241ebe-58a8-49a7-8c83-0be9c90a804a')\"\n",
              "            title=\"Convert this dataframe to an interactive table.\"\n",
              "            style=\"display:none;\">\n",
              "\n",
              "  <svg xmlns=\"http://www.w3.org/2000/svg\" height=\"24px\" viewBox=\"0 -960 960 960\">\n",
              "    <path d=\"M120-120v-720h720v720H120Zm60-500h600v-160H180v160Zm220 220h160v-160H400v160Zm0 220h160v-160H400v160ZM180-400h160v-160H180v160Zm440 0h160v-160H620v160ZM180-180h160v-160H180v160Zm440 0h160v-160H620v160Z\"/>\n",
              "  </svg>\n",
              "    </button>\n",
              "\n",
              "  <style>\n",
              "    .colab-df-container {\n",
              "      display:flex;\n",
              "      gap: 12px;\n",
              "    }\n",
              "\n",
              "    .colab-df-convert {\n",
              "      background-color: #E8F0FE;\n",
              "      border: none;\n",
              "      border-radius: 50%;\n",
              "      cursor: pointer;\n",
              "      display: none;\n",
              "      fill: #1967D2;\n",
              "      height: 32px;\n",
              "      padding: 0 0 0 0;\n",
              "      width: 32px;\n",
              "    }\n",
              "\n",
              "    .colab-df-convert:hover {\n",
              "      background-color: #E2EBFA;\n",
              "      box-shadow: 0px 1px 2px rgba(60, 64, 67, 0.3), 0px 1px 3px 1px rgba(60, 64, 67, 0.15);\n",
              "      fill: #174EA6;\n",
              "    }\n",
              "\n",
              "    .colab-df-buttons div {\n",
              "      margin-bottom: 4px;\n",
              "    }\n",
              "\n",
              "    [theme=dark] .colab-df-convert {\n",
              "      background-color: #3B4455;\n",
              "      fill: #D2E3FC;\n",
              "    }\n",
              "\n",
              "    [theme=dark] .colab-df-convert:hover {\n",
              "      background-color: #434B5C;\n",
              "      box-shadow: 0px 1px 3px 1px rgba(0, 0, 0, 0.15);\n",
              "      filter: drop-shadow(0px 1px 2px rgba(0, 0, 0, 0.3));\n",
              "      fill: #FFFFFF;\n",
              "    }\n",
              "  </style>\n",
              "\n",
              "    <script>\n",
              "      const buttonEl =\n",
              "        document.querySelector('#df-66241ebe-58a8-49a7-8c83-0be9c90a804a button.colab-df-convert');\n",
              "      buttonEl.style.display =\n",
              "        google.colab.kernel.accessAllowed ? 'block' : 'none';\n",
              "\n",
              "      async function convertToInteractive(key) {\n",
              "        const element = document.querySelector('#df-66241ebe-58a8-49a7-8c83-0be9c90a804a');\n",
              "        const dataTable =\n",
              "          await google.colab.kernel.invokeFunction('convertToInteractive',\n",
              "                                                    [key], {});\n",
              "        if (!dataTable) return;\n",
              "\n",
              "        const docLinkHtml = 'Like what you see? Visit the ' +\n",
              "          '<a target=\"_blank\" href=https://colab.research.google.com/notebooks/data_table.ipynb>data table notebook</a>'\n",
              "          + ' to learn more about interactive tables.';\n",
              "        element.innerHTML = '';\n",
              "        dataTable['output_type'] = 'display_data';\n",
              "        await google.colab.output.renderOutput(dataTable, element);\n",
              "        const docLink = document.createElement('div');\n",
              "        docLink.innerHTML = docLinkHtml;\n",
              "        element.appendChild(docLink);\n",
              "      }\n",
              "    </script>\n",
              "  </div>\n",
              "\n",
              "\n",
              "    <div id=\"df-2bf18af7-6f91-4dc6-b2b5-88b7c2ac86e3\">\n",
              "      <button class=\"colab-df-quickchart\" onclick=\"quickchart('df-2bf18af7-6f91-4dc6-b2b5-88b7c2ac86e3')\"\n",
              "                title=\"Suggest charts\"\n",
              "                style=\"display:none;\">\n",
              "\n",
              "<svg xmlns=\"http://www.w3.org/2000/svg\" height=\"24px\"viewBox=\"0 0 24 24\"\n",
              "     width=\"24px\">\n",
              "    <g>\n",
              "        <path d=\"M19 3H5c-1.1 0-2 .9-2 2v14c0 1.1.9 2 2 2h14c1.1 0 2-.9 2-2V5c0-1.1-.9-2-2-2zM9 17H7v-7h2v7zm4 0h-2V7h2v10zm4 0h-2v-4h2v4z\"/>\n",
              "    </g>\n",
              "</svg>\n",
              "      </button>\n",
              "\n",
              "<style>\n",
              "  .colab-df-quickchart {\n",
              "      --bg-color: #E8F0FE;\n",
              "      --fill-color: #1967D2;\n",
              "      --hover-bg-color: #E2EBFA;\n",
              "      --hover-fill-color: #174EA6;\n",
              "      --disabled-fill-color: #AAA;\n",
              "      --disabled-bg-color: #DDD;\n",
              "  }\n",
              "\n",
              "  [theme=dark] .colab-df-quickchart {\n",
              "      --bg-color: #3B4455;\n",
              "      --fill-color: #D2E3FC;\n",
              "      --hover-bg-color: #434B5C;\n",
              "      --hover-fill-color: #FFFFFF;\n",
              "      --disabled-bg-color: #3B4455;\n",
              "      --disabled-fill-color: #666;\n",
              "  }\n",
              "\n",
              "  .colab-df-quickchart {\n",
              "    background-color: var(--bg-color);\n",
              "    border: none;\n",
              "    border-radius: 50%;\n",
              "    cursor: pointer;\n",
              "    display: none;\n",
              "    fill: var(--fill-color);\n",
              "    height: 32px;\n",
              "    padding: 0;\n",
              "    width: 32px;\n",
              "  }\n",
              "\n",
              "  .colab-df-quickchart:hover {\n",
              "    background-color: var(--hover-bg-color);\n",
              "    box-shadow: 0 1px 2px rgba(60, 64, 67, 0.3), 0 1px 3px 1px rgba(60, 64, 67, 0.15);\n",
              "    fill: var(--button-hover-fill-color);\n",
              "  }\n",
              "\n",
              "  .colab-df-quickchart-complete:disabled,\n",
              "  .colab-df-quickchart-complete:disabled:hover {\n",
              "    background-color: var(--disabled-bg-color);\n",
              "    fill: var(--disabled-fill-color);\n",
              "    box-shadow: none;\n",
              "  }\n",
              "\n",
              "  .colab-df-spinner {\n",
              "    border: 2px solid var(--fill-color);\n",
              "    border-color: transparent;\n",
              "    border-bottom-color: var(--fill-color);\n",
              "    animation:\n",
              "      spin 1s steps(1) infinite;\n",
              "  }\n",
              "\n",
              "  @keyframes spin {\n",
              "    0% {\n",
              "      border-color: transparent;\n",
              "      border-bottom-color: var(--fill-color);\n",
              "      border-left-color: var(--fill-color);\n",
              "    }\n",
              "    20% {\n",
              "      border-color: transparent;\n",
              "      border-left-color: var(--fill-color);\n",
              "      border-top-color: var(--fill-color);\n",
              "    }\n",
              "    30% {\n",
              "      border-color: transparent;\n",
              "      border-left-color: var(--fill-color);\n",
              "      border-top-color: var(--fill-color);\n",
              "      border-right-color: var(--fill-color);\n",
              "    }\n",
              "    40% {\n",
              "      border-color: transparent;\n",
              "      border-right-color: var(--fill-color);\n",
              "      border-top-color: var(--fill-color);\n",
              "    }\n",
              "    60% {\n",
              "      border-color: transparent;\n",
              "      border-right-color: var(--fill-color);\n",
              "    }\n",
              "    80% {\n",
              "      border-color: transparent;\n",
              "      border-right-color: var(--fill-color);\n",
              "      border-bottom-color: var(--fill-color);\n",
              "    }\n",
              "    90% {\n",
              "      border-color: transparent;\n",
              "      border-bottom-color: var(--fill-color);\n",
              "    }\n",
              "  }\n",
              "</style>\n",
              "\n",
              "      <script>\n",
              "        async function quickchart(key) {\n",
              "          const quickchartButtonEl =\n",
              "            document.querySelector('#' + key + ' button');\n",
              "          quickchartButtonEl.disabled = true;  // To prevent multiple clicks.\n",
              "          quickchartButtonEl.classList.add('colab-df-spinner');\n",
              "          try {\n",
              "            const charts = await google.colab.kernel.invokeFunction(\n",
              "                'suggestCharts', [key], {});\n",
              "          } catch (error) {\n",
              "            console.error('Error during call to suggestCharts:', error);\n",
              "          }\n",
              "          quickchartButtonEl.classList.remove('colab-df-spinner');\n",
              "          quickchartButtonEl.classList.add('colab-df-quickchart-complete');\n",
              "        }\n",
              "        (() => {\n",
              "          let quickchartButtonEl =\n",
              "            document.querySelector('#df-2bf18af7-6f91-4dc6-b2b5-88b7c2ac86e3 button');\n",
              "          quickchartButtonEl.style.display =\n",
              "            google.colab.kernel.accessAllowed ? 'block' : 'none';\n",
              "        })();\n",
              "      </script>\n",
              "    </div>\n",
              "\n",
              "    </div>\n",
              "  </div>\n"
            ],
            "application/vnd.google.colaboratory.intrinsic+json": {
              "type": "dataframe",
              "variable_name": "df",
              "summary": "{\n  \"name\": \"df\",\n  \"rows\": 103,\n  \"fields\": [\n    {\n      \"column\": \"wallet\",\n      \"properties\": {\n        \"dtype\": \"string\",\n        \"num_unique_values\": 103,\n        \"samples\": [\n          \"0x4d997c89bc659a3e8452038a8101161e7e7e53a7\",\n          \"0x93f0891bf71d8abed78e0de0885bd26355bb8b1d\",\n          \"0x880a0af12da55df1197f41697c1a1b61670ed410\"\n        ],\n        \"semantic_type\": \"\",\n        \"description\": \"\"\n      }\n    },\n    {\n      \"column\": \"total_supplied_usd\",\n      \"properties\": {\n        \"dtype\": \"number\",\n        \"std\": 2889.2505897726032,\n        \"min\": 233.75,\n        \"max\": 9926.78,\n        \"num_unique_values\": 103,\n        \"samples\": [\n          8515.45,\n          233.75,\n          2515.45\n        ],\n        \"semantic_type\": \"\",\n        \"description\": \"\"\n      }\n    },\n    {\n      \"column\": \"total_borrowed_usd\",\n      \"properties\": {\n        \"dtype\": \"number\",\n        \"std\": 1406.629741625511,\n        \"min\": 18.44,\n        \"max\": 4975.98,\n        \"num_unique_values\": 103,\n        \"samples\": [\n          2025.1,\n          2199.43,\n          746.45\n        ],\n        \"semantic_type\": \"\",\n        \"description\": \"\"\n      }\n    },\n    {\n      \"column\": \"reputation_score\",\n      \"properties\": {\n        \"dtype\": \"number\",\n        \"std\": 26,\n        \"min\": 0,\n        \"max\": 100,\n        \"num_unique_values\": 67,\n        \"samples\": [\n          13,\n          49,\n          30\n        ],\n        \"semantic_type\": \"\",\n        \"description\": \"\"\n      }\n    }\n  ]\n}"
            }
          },
          "metadata": {},
          "execution_count": 9
        }
      ]
    },
    {
      "cell_type": "code",
      "source": [
        "# Derived Feature: Utilization Rate\n",
        "df['utilization_rate'] = df['total_borrowed_usd'] / (df['total_supplied_usd'] + 1e-6)  # avoid div by 0\n"
      ],
      "metadata": {
        "id": "lMWpOwazWXB4"
      },
      "execution_count": 10,
      "outputs": []
    },
    {
      "cell_type": "markdown",
      "source": [
        "# **Step 5: Feature Engineering**"
      ],
      "metadata": {
        "id": "A053a9UGbh4K"
      }
    },
    {
      "cell_type": "code",
      "source": [
        "df['utilization_rate']"
      ],
      "metadata": {
        "colab": {
          "base_uri": "https://localhost:8080/",
          "height": 458
        },
        "id": "TrJckw9MWang",
        "outputId": "88c69582-582e-489d-dab5-22ba353156ad"
      },
      "execution_count": 11,
      "outputs": [
        {
          "output_type": "execute_result",
          "data": {
            "text/plain": [
              "0      0.321050\n",
              "1      3.067454\n",
              "2      0.284215\n",
              "3      2.849182\n",
              "4      0.398284\n",
              "         ...   \n",
              "98     0.100094\n",
              "99     0.100999\n",
              "100    0.379592\n",
              "101    0.356453\n",
              "102    0.311717\n",
              "Name: utilization_rate, Length: 103, dtype: float64"
            ],
            "text/html": [
              "<div>\n",
              "<style scoped>\n",
              "    .dataframe tbody tr th:only-of-type {\n",
              "        vertical-align: middle;\n",
              "    }\n",
              "\n",
              "    .dataframe tbody tr th {\n",
              "        vertical-align: top;\n",
              "    }\n",
              "\n",
              "    .dataframe thead th {\n",
              "        text-align: right;\n",
              "    }\n",
              "</style>\n",
              "<table border=\"1\" class=\"dataframe\">\n",
              "  <thead>\n",
              "    <tr style=\"text-align: right;\">\n",
              "      <th></th>\n",
              "      <th>utilization_rate</th>\n",
              "    </tr>\n",
              "  </thead>\n",
              "  <tbody>\n",
              "    <tr>\n",
              "      <th>0</th>\n",
              "      <td>0.321050</td>\n",
              "    </tr>\n",
              "    <tr>\n",
              "      <th>1</th>\n",
              "      <td>3.067454</td>\n",
              "    </tr>\n",
              "    <tr>\n",
              "      <th>2</th>\n",
              "      <td>0.284215</td>\n",
              "    </tr>\n",
              "    <tr>\n",
              "      <th>3</th>\n",
              "      <td>2.849182</td>\n",
              "    </tr>\n",
              "    <tr>\n",
              "      <th>4</th>\n",
              "      <td>0.398284</td>\n",
              "    </tr>\n",
              "    <tr>\n",
              "      <th>...</th>\n",
              "      <td>...</td>\n",
              "    </tr>\n",
              "    <tr>\n",
              "      <th>98</th>\n",
              "      <td>0.100094</td>\n",
              "    </tr>\n",
              "    <tr>\n",
              "      <th>99</th>\n",
              "      <td>0.100999</td>\n",
              "    </tr>\n",
              "    <tr>\n",
              "      <th>100</th>\n",
              "      <td>0.379592</td>\n",
              "    </tr>\n",
              "    <tr>\n",
              "      <th>101</th>\n",
              "      <td>0.356453</td>\n",
              "    </tr>\n",
              "    <tr>\n",
              "      <th>102</th>\n",
              "      <td>0.311717</td>\n",
              "    </tr>\n",
              "  </tbody>\n",
              "</table>\n",
              "<p>103 rows × 1 columns</p>\n",
              "</div><br><label><b>dtype:</b> float64</label>"
            ]
          },
          "metadata": {},
          "execution_count": 11
        }
      ]
    },
    {
      "cell_type": "markdown",
      "source": [
        "# **# Step 6: Normalize & Score**"
      ],
      "metadata": {
        "id": "RlReu1MBbxgS"
      }
    },
    {
      "cell_type": "code",
      "source": [
        "from sklearn.preprocessing import MinMaxScaler\n",
        "\n",
        "scaler = MinMaxScaler()\n",
        "df[['supplied_score', 'borrowed_score', 'utilization_score']] = scaler.fit_transform(\n",
        "    df[['total_supplied_usd', 'total_borrowed_usd', 'utilization_rate']]\n",
        ")\n",
        "\n",
        "# Final risk score: weighted formula (lower score = lower risk)\n",
        "df['score'] = (\n",
        "    0.5 * (1 - df['utilization_score']) +  # lower utilization is better\n",
        "    0.3 * df['supplied_score'] +           # more supplied = better\n",
        "    0.2 * (df['reputation_score'] / 100)   # higher reputation\n",
        ")\n",
        "\n",
        "# Scale to 0-1000\n",
        "df['score'] = (df['score'] * 1000).astype(int)\n"
      ],
      "metadata": {
        "id": "pZcn1qQjWcuZ"
      },
      "execution_count": 12,
      "outputs": []
    },
    {
      "cell_type": "code",
      "source": [
        "df['score']"
      ],
      "metadata": {
        "colab": {
          "base_uri": "https://localhost:8080/",
          "height": 458
        },
        "id": "oLbZcU9zWfNB",
        "outputId": "d9fed083-1661-4834-8477-e806f30d6ec1"
      },
      "execution_count": 13,
      "outputs": [
        {
          "output_type": "execute_result",
          "data": {
            "text/plain": [
              "0      826\n",
              "1      513\n",
              "2      962\n",
              "3      627\n",
              "4      775\n",
              "      ... \n",
              "98     871\n",
              "99     661\n",
              "100    926\n",
              "101    841\n",
              "102    709\n",
              "Name: score, Length: 103, dtype: int64"
            ],
            "text/html": [
              "<div>\n",
              "<style scoped>\n",
              "    .dataframe tbody tr th:only-of-type {\n",
              "        vertical-align: middle;\n",
              "    }\n",
              "\n",
              "    .dataframe tbody tr th {\n",
              "        vertical-align: top;\n",
              "    }\n",
              "\n",
              "    .dataframe thead th {\n",
              "        text-align: right;\n",
              "    }\n",
              "</style>\n",
              "<table border=\"1\" class=\"dataframe\">\n",
              "  <thead>\n",
              "    <tr style=\"text-align: right;\">\n",
              "      <th></th>\n",
              "      <th>score</th>\n",
              "    </tr>\n",
              "  </thead>\n",
              "  <tbody>\n",
              "    <tr>\n",
              "      <th>0</th>\n",
              "      <td>826</td>\n",
              "    </tr>\n",
              "    <tr>\n",
              "      <th>1</th>\n",
              "      <td>513</td>\n",
              "    </tr>\n",
              "    <tr>\n",
              "      <th>2</th>\n",
              "      <td>962</td>\n",
              "    </tr>\n",
              "    <tr>\n",
              "      <th>3</th>\n",
              "      <td>627</td>\n",
              "    </tr>\n",
              "    <tr>\n",
              "      <th>4</th>\n",
              "      <td>775</td>\n",
              "    </tr>\n",
              "    <tr>\n",
              "      <th>...</th>\n",
              "      <td>...</td>\n",
              "    </tr>\n",
              "    <tr>\n",
              "      <th>98</th>\n",
              "      <td>871</td>\n",
              "    </tr>\n",
              "    <tr>\n",
              "      <th>99</th>\n",
              "      <td>661</td>\n",
              "    </tr>\n",
              "    <tr>\n",
              "      <th>100</th>\n",
              "      <td>926</td>\n",
              "    </tr>\n",
              "    <tr>\n",
              "      <th>101</th>\n",
              "      <td>841</td>\n",
              "    </tr>\n",
              "    <tr>\n",
              "      <th>102</th>\n",
              "      <td>709</td>\n",
              "    </tr>\n",
              "  </tbody>\n",
              "</table>\n",
              "<p>103 rows × 1 columns</p>\n",
              "</div><br><label><b>dtype:</b> int64</label>"
            ]
          },
          "metadata": {},
          "execution_count": 13
        }
      ]
    },
    {
      "cell_type": "markdown",
      "source": [
        "# **Step 7: Final Output**"
      ],
      "metadata": {
        "id": "G5GCDA1ib6jC"
      }
    },
    {
      "cell_type": "code",
      "source": [
        "output_df = df[['wallet', 'score']]\n",
        "output_df.columns = ['wallet_id', 'score']\n",
        "output_df.to_csv('wallet_risk_scores.csv', index=False)\n",
        "output_df.head()\n"
      ],
      "metadata": {
        "colab": {
          "base_uri": "https://localhost:8080/",
          "height": 206
        },
        "id": "6dz7HwZ7WhhF",
        "outputId": "65fe3146-d9d7-482b-cbb3-30f97579cc4d"
      },
      "execution_count": 14,
      "outputs": [
        {
          "output_type": "execute_result",
          "data": {
            "text/plain": [
              "                                    wallet_id  score\n",
              "0  0x0039f22efb07a647557c7c5d17854cfd6d489ef3    826\n",
              "1  0x06b51c6882b27cb05e712185531c1f74996dd988    513\n",
              "2  0x0795732aacc448030ef374374eaae57d2965c16c    962\n",
              "3  0x0aaa79f1a86bc8136cd0d1ca0d51964f4e3766f9    627\n",
              "4  0x0fe383e5abc200055a7f391f94a5f5d1f844b9ae    775"
            ],
            "text/html": [
              "\n",
              "  <div id=\"df-3004933f-03ab-417d-8c0f-20a5693c69f4\" class=\"colab-df-container\">\n",
              "    <div>\n",
              "<style scoped>\n",
              "    .dataframe tbody tr th:only-of-type {\n",
              "        vertical-align: middle;\n",
              "    }\n",
              "\n",
              "    .dataframe tbody tr th {\n",
              "        vertical-align: top;\n",
              "    }\n",
              "\n",
              "    .dataframe thead th {\n",
              "        text-align: right;\n",
              "    }\n",
              "</style>\n",
              "<table border=\"1\" class=\"dataframe\">\n",
              "  <thead>\n",
              "    <tr style=\"text-align: right;\">\n",
              "      <th></th>\n",
              "      <th>wallet_id</th>\n",
              "      <th>score</th>\n",
              "    </tr>\n",
              "  </thead>\n",
              "  <tbody>\n",
              "    <tr>\n",
              "      <th>0</th>\n",
              "      <td>0x0039f22efb07a647557c7c5d17854cfd6d489ef3</td>\n",
              "      <td>826</td>\n",
              "    </tr>\n",
              "    <tr>\n",
              "      <th>1</th>\n",
              "      <td>0x06b51c6882b27cb05e712185531c1f74996dd988</td>\n",
              "      <td>513</td>\n",
              "    </tr>\n",
              "    <tr>\n",
              "      <th>2</th>\n",
              "      <td>0x0795732aacc448030ef374374eaae57d2965c16c</td>\n",
              "      <td>962</td>\n",
              "    </tr>\n",
              "    <tr>\n",
              "      <th>3</th>\n",
              "      <td>0x0aaa79f1a86bc8136cd0d1ca0d51964f4e3766f9</td>\n",
              "      <td>627</td>\n",
              "    </tr>\n",
              "    <tr>\n",
              "      <th>4</th>\n",
              "      <td>0x0fe383e5abc200055a7f391f94a5f5d1f844b9ae</td>\n",
              "      <td>775</td>\n",
              "    </tr>\n",
              "  </tbody>\n",
              "</table>\n",
              "</div>\n",
              "    <div class=\"colab-df-buttons\">\n",
              "\n",
              "  <div class=\"colab-df-container\">\n",
              "    <button class=\"colab-df-convert\" onclick=\"convertToInteractive('df-3004933f-03ab-417d-8c0f-20a5693c69f4')\"\n",
              "            title=\"Convert this dataframe to an interactive table.\"\n",
              "            style=\"display:none;\">\n",
              "\n",
              "  <svg xmlns=\"http://www.w3.org/2000/svg\" height=\"24px\" viewBox=\"0 -960 960 960\">\n",
              "    <path d=\"M120-120v-720h720v720H120Zm60-500h600v-160H180v160Zm220 220h160v-160H400v160Zm0 220h160v-160H400v160ZM180-400h160v-160H180v160Zm440 0h160v-160H620v160ZM180-180h160v-160H180v160Zm440 0h160v-160H620v160Z\"/>\n",
              "  </svg>\n",
              "    </button>\n",
              "\n",
              "  <style>\n",
              "    .colab-df-container {\n",
              "      display:flex;\n",
              "      gap: 12px;\n",
              "    }\n",
              "\n",
              "    .colab-df-convert {\n",
              "      background-color: #E8F0FE;\n",
              "      border: none;\n",
              "      border-radius: 50%;\n",
              "      cursor: pointer;\n",
              "      display: none;\n",
              "      fill: #1967D2;\n",
              "      height: 32px;\n",
              "      padding: 0 0 0 0;\n",
              "      width: 32px;\n",
              "    }\n",
              "\n",
              "    .colab-df-convert:hover {\n",
              "      background-color: #E2EBFA;\n",
              "      box-shadow: 0px 1px 2px rgba(60, 64, 67, 0.3), 0px 1px 3px 1px rgba(60, 64, 67, 0.15);\n",
              "      fill: #174EA6;\n",
              "    }\n",
              "\n",
              "    .colab-df-buttons div {\n",
              "      margin-bottom: 4px;\n",
              "    }\n",
              "\n",
              "    [theme=dark] .colab-df-convert {\n",
              "      background-color: #3B4455;\n",
              "      fill: #D2E3FC;\n",
              "    }\n",
              "\n",
              "    [theme=dark] .colab-df-convert:hover {\n",
              "      background-color: #434B5C;\n",
              "      box-shadow: 0px 1px 3px 1px rgba(0, 0, 0, 0.15);\n",
              "      filter: drop-shadow(0px 1px 2px rgba(0, 0, 0, 0.3));\n",
              "      fill: #FFFFFF;\n",
              "    }\n",
              "  </style>\n",
              "\n",
              "    <script>\n",
              "      const buttonEl =\n",
              "        document.querySelector('#df-3004933f-03ab-417d-8c0f-20a5693c69f4 button.colab-df-convert');\n",
              "      buttonEl.style.display =\n",
              "        google.colab.kernel.accessAllowed ? 'block' : 'none';\n",
              "\n",
              "      async function convertToInteractive(key) {\n",
              "        const element = document.querySelector('#df-3004933f-03ab-417d-8c0f-20a5693c69f4');\n",
              "        const dataTable =\n",
              "          await google.colab.kernel.invokeFunction('convertToInteractive',\n",
              "                                                    [key], {});\n",
              "        if (!dataTable) return;\n",
              "\n",
              "        const docLinkHtml = 'Like what you see? Visit the ' +\n",
              "          '<a target=\"_blank\" href=https://colab.research.google.com/notebooks/data_table.ipynb>data table notebook</a>'\n",
              "          + ' to learn more about interactive tables.';\n",
              "        element.innerHTML = '';\n",
              "        dataTable['output_type'] = 'display_data';\n",
              "        await google.colab.output.renderOutput(dataTable, element);\n",
              "        const docLink = document.createElement('div');\n",
              "        docLink.innerHTML = docLinkHtml;\n",
              "        element.appendChild(docLink);\n",
              "      }\n",
              "    </script>\n",
              "  </div>\n",
              "\n",
              "\n",
              "    <div id=\"df-cdef4af2-fa6e-4024-b2de-317bdc9fc582\">\n",
              "      <button class=\"colab-df-quickchart\" onclick=\"quickchart('df-cdef4af2-fa6e-4024-b2de-317bdc9fc582')\"\n",
              "                title=\"Suggest charts\"\n",
              "                style=\"display:none;\">\n",
              "\n",
              "<svg xmlns=\"http://www.w3.org/2000/svg\" height=\"24px\"viewBox=\"0 0 24 24\"\n",
              "     width=\"24px\">\n",
              "    <g>\n",
              "        <path d=\"M19 3H5c-1.1 0-2 .9-2 2v14c0 1.1.9 2 2 2h14c1.1 0 2-.9 2-2V5c0-1.1-.9-2-2-2zM9 17H7v-7h2v7zm4 0h-2V7h2v10zm4 0h-2v-4h2v4z\"/>\n",
              "    </g>\n",
              "</svg>\n",
              "      </button>\n",
              "\n",
              "<style>\n",
              "  .colab-df-quickchart {\n",
              "      --bg-color: #E8F0FE;\n",
              "      --fill-color: #1967D2;\n",
              "      --hover-bg-color: #E2EBFA;\n",
              "      --hover-fill-color: #174EA6;\n",
              "      --disabled-fill-color: #AAA;\n",
              "      --disabled-bg-color: #DDD;\n",
              "  }\n",
              "\n",
              "  [theme=dark] .colab-df-quickchart {\n",
              "      --bg-color: #3B4455;\n",
              "      --fill-color: #D2E3FC;\n",
              "      --hover-bg-color: #434B5C;\n",
              "      --hover-fill-color: #FFFFFF;\n",
              "      --disabled-bg-color: #3B4455;\n",
              "      --disabled-fill-color: #666;\n",
              "  }\n",
              "\n",
              "  .colab-df-quickchart {\n",
              "    background-color: var(--bg-color);\n",
              "    border: none;\n",
              "    border-radius: 50%;\n",
              "    cursor: pointer;\n",
              "    display: none;\n",
              "    fill: var(--fill-color);\n",
              "    height: 32px;\n",
              "    padding: 0;\n",
              "    width: 32px;\n",
              "  }\n",
              "\n",
              "  .colab-df-quickchart:hover {\n",
              "    background-color: var(--hover-bg-color);\n",
              "    box-shadow: 0 1px 2px rgba(60, 64, 67, 0.3), 0 1px 3px 1px rgba(60, 64, 67, 0.15);\n",
              "    fill: var(--button-hover-fill-color);\n",
              "  }\n",
              "\n",
              "  .colab-df-quickchart-complete:disabled,\n",
              "  .colab-df-quickchart-complete:disabled:hover {\n",
              "    background-color: var(--disabled-bg-color);\n",
              "    fill: var(--disabled-fill-color);\n",
              "    box-shadow: none;\n",
              "  }\n",
              "\n",
              "  .colab-df-spinner {\n",
              "    border: 2px solid var(--fill-color);\n",
              "    border-color: transparent;\n",
              "    border-bottom-color: var(--fill-color);\n",
              "    animation:\n",
              "      spin 1s steps(1) infinite;\n",
              "  }\n",
              "\n",
              "  @keyframes spin {\n",
              "    0% {\n",
              "      border-color: transparent;\n",
              "      border-bottom-color: var(--fill-color);\n",
              "      border-left-color: var(--fill-color);\n",
              "    }\n",
              "    20% {\n",
              "      border-color: transparent;\n",
              "      border-left-color: var(--fill-color);\n",
              "      border-top-color: var(--fill-color);\n",
              "    }\n",
              "    30% {\n",
              "      border-color: transparent;\n",
              "      border-left-color: var(--fill-color);\n",
              "      border-top-color: var(--fill-color);\n",
              "      border-right-color: var(--fill-color);\n",
              "    }\n",
              "    40% {\n",
              "      border-color: transparent;\n",
              "      border-right-color: var(--fill-color);\n",
              "      border-top-color: var(--fill-color);\n",
              "    }\n",
              "    60% {\n",
              "      border-color: transparent;\n",
              "      border-right-color: var(--fill-color);\n",
              "    }\n",
              "    80% {\n",
              "      border-color: transparent;\n",
              "      border-right-color: var(--fill-color);\n",
              "      border-bottom-color: var(--fill-color);\n",
              "    }\n",
              "    90% {\n",
              "      border-color: transparent;\n",
              "      border-bottom-color: var(--fill-color);\n",
              "    }\n",
              "  }\n",
              "</style>\n",
              "\n",
              "      <script>\n",
              "        async function quickchart(key) {\n",
              "          const quickchartButtonEl =\n",
              "            document.querySelector('#' + key + ' button');\n",
              "          quickchartButtonEl.disabled = true;  // To prevent multiple clicks.\n",
              "          quickchartButtonEl.classList.add('colab-df-spinner');\n",
              "          try {\n",
              "            const charts = await google.colab.kernel.invokeFunction(\n",
              "                'suggestCharts', [key], {});\n",
              "          } catch (error) {\n",
              "            console.error('Error during call to suggestCharts:', error);\n",
              "          }\n",
              "          quickchartButtonEl.classList.remove('colab-df-spinner');\n",
              "          quickchartButtonEl.classList.add('colab-df-quickchart-complete');\n",
              "        }\n",
              "        (() => {\n",
              "          let quickchartButtonEl =\n",
              "            document.querySelector('#df-cdef4af2-fa6e-4024-b2de-317bdc9fc582 button');\n",
              "          quickchartButtonEl.style.display =\n",
              "            google.colab.kernel.accessAllowed ? 'block' : 'none';\n",
              "        })();\n",
              "      </script>\n",
              "    </div>\n",
              "\n",
              "    </div>\n",
              "  </div>\n"
            ],
            "application/vnd.google.colaboratory.intrinsic+json": {
              "type": "dataframe",
              "variable_name": "output_df",
              "summary": "{\n  \"name\": \"output_df\",\n  \"rows\": 103,\n  \"fields\": [\n    {\n      \"column\": \"wallet_id\",\n      \"properties\": {\n        \"dtype\": \"string\",\n        \"num_unique_values\": 103,\n        \"samples\": [\n          \"0x4d997c89bc659a3e8452038a8101161e7e7e53a7\",\n          \"0x93f0891bf71d8abed78e0de0885bd26355bb8b1d\",\n          \"0x880a0af12da55df1197f41697c1a1b61670ed410\"\n        ],\n        \"semantic_type\": \"\",\n        \"description\": \"\"\n      }\n    },\n    {\n      \"column\": \"score\",\n      \"properties\": {\n        \"dtype\": \"number\",\n        \"std\": 144,\n        \"min\": 50,\n        \"max\": 962,\n        \"num_unique_values\": 89,\n        \"samples\": [\n          932,\n          950,\n          878\n        ],\n        \"semantic_type\": \"\",\n        \"description\": \"\"\n      }\n    }\n  ]\n}"
            }
          },
          "metadata": {},
          "execution_count": 14
        }
      ]
    },
    {
      "cell_type": "markdown",
      "source": [
        "# **Visualize Score Distribution**"
      ],
      "metadata": {
        "id": "oME44E6YUAeY"
      }
    },
    {
      "cell_type": "code",
      "source": [
        "import matplotlib.pyplot as plt\n",
        "import seaborn as sns\n",
        "\n",
        "# Set style\n",
        "sns.set(style=\"whitegrid\")\n",
        "\n",
        "# Plot distribution\n",
        "plt.figure(figsize=(10, 6))\n",
        "sns.histplot(df['score'], bins=30, kde=True, color='skyblue')\n",
        "plt.title('Distribution of Wallet Risk Scores')\n",
        "plt.xlabel('Risk Score')\n",
        "plt.ylabel('Number of Wallets')\n",
        "plt.show()\n"
      ],
      "metadata": {
        "id": "OOFlUmf3g9rx",
        "colab": {
          "base_uri": "https://localhost:8080/",
          "height": 573
        },
        "outputId": "707b78a1-32fb-4f83-e372-12c975b8293e"
      },
      "execution_count": 26,
      "outputs": [
        {
          "output_type": "display_data",
          "data": {
            "text/plain": [
              "<Figure size 1000x600 with 1 Axes>"
            ],
            "image/png": "[encoded data removed]"
          },
          "metadata": {}
        }
      ]
    },
    {
      "cell_type": "markdown",
      "source": [
        "# **Top 10 Highest Risk Wallets**"
      ],
      "metadata": {
        "id": "wZQBZhloUGgO"
      }
    },
    {
      "cell_type": "code",
      "source": [
        "# Sort by highest score (most risky)\n",
        "top_risk_wallets = df.sort_values(by='score', ascending=False).head(10)\n",
        "print(\"Top 10 Highest Risk Wallets\")\n",
        "print(top_risk_wallets)\n"
      ],
      "metadata": {
        "colab": {
          "base_uri": "https://localhost:8080/"
        },
        "id": "YTOlAp7DcXlG",
        "outputId": "cdccbd55-fb65-42c2-984d-ea6cb1b55891"
      },
      "execution_count": 15,
      "outputs": [
        {
          "output_type": "stream",
          "name": "stdout",
          "text": [
            "Top 10 Highest Risk Wallets\n",
            "                                         wallet  total_supplied_usd  \\\n",
            "2    0x0795732aacc448030ef374374eaae57d2965c16c             9413.08   \n",
            "72   0x9ba0d85f71e145ccf15225e59631e5a883d5d74a             9645.12   \n",
            "56   0x7e3eab408b9c76a13305ef34606f17c16f7b33cc             9417.89   \n",
            "51   0x7851bdfb64bbecfb40c030d722a1f147dff5db6a             8486.88   \n",
            "76   0xa98dc64bb42575efec7d1e4560c029231ce5da51             8849.50   \n",
            "77   0xb271ff7090b39028eb6e711c3f89a3453d5861ee             9626.89   \n",
            "81   0xc179d55f7e00e789915760f7d260a1bf6285278b             8045.05   \n",
            "96   0xf340b9f2098f80b86fbc5ede586c319473aa11f3             8163.22   \n",
            "45   0x6d69ca3711e504658977367e13c300ab198379f1             9332.79   \n",
            "100  0xf7aa5d0752cfcd41b0a5945867d619a80c405e52             9624.87   \n",
            "\n",
            "     total_borrowed_usd  reputation_score  utilization_rate  supplied_score  \\\n",
            "2               2675.34                93          0.284215        0.947003   \n",
            "72              3301.67                84          0.342315        0.970942   \n",
            "56              4975.98                90          0.528354        0.947499   \n",
            "51               389.25                97          0.045865        0.851450   \n",
            "76              4896.94                96          0.553358        0.888860   \n",
            "77              2326.08                80          0.241623        0.969061   \n",
            "81               575.37                99          0.071519        0.805868   \n",
            "96              1077.18                96          0.131955        0.818059   \n",
            "45              4690.04                82          0.502534        0.938720   \n",
            "100             3653.52                73          0.379592        0.968853   \n",
            "\n",
            "     borrowed_score  utilization_score  score  \n",
            "2          0.535931           0.014431    962  \n",
            "72         0.662270           0.017497    950  \n",
            "56         1.000000           0.027316    950  \n",
            "51         0.074797           0.001852    948  \n",
            "76         0.984057           0.028635    944  \n",
            "77         0.465481           0.012183    944  \n",
            "81         0.112340           0.003206    938  \n",
            "96         0.213562           0.006395    934  \n",
            "45         0.942322           0.025953    932  \n",
            "100        0.733243           0.019465    926  \n"
          ]
        }
      ]
    },
    {
      "cell_type": "markdown",
      "source": [
        "# **Top 10 Lowest Risk Wallets**"
      ],
      "metadata": {
        "id": "8aEybtjXUKR6"
      }
    },
    {
      "cell_type": "code",
      "source": [
        "# Sort by lowest score (least risky)\n",
        "low_risk_wallets = df.sort_values(by='score', ascending=True).head(10)\n",
        "print(\"Top 10 Lowest Risk Wallets\")\n",
        "print(low_risk_wallets)\n"
      ],
      "metadata": {
        "colab": {
          "base_uri": "https://localhost:8080/"
        },
        "id": "_YTxZoYRcktK",
        "outputId": "8102933b-02eb-4d80-f25f-4a4c392124ba"
      },
      "execution_count": 16,
      "outputs": [
        {
          "output_type": "stream",
          "name": "stdout",
          "text": [
            "Top 10 Lowest Risk Wallets\n",
            "                                        wallet  total_supplied_usd  \\\n",
            "87  0xd1a3888fd8f490367c6104e10b4154427c02dd9c              240.74   \n",
            "71  0x9ad1331c5b6c5a641acffb32719c66a80c6e1a17              873.95   \n",
            "67  0x93f0891bf71d8abed78e0de0885bd26355bb8b1d              233.75   \n",
            "13  0x1c1b30ca93ef57452d53885d97a74f61daf2bf4f              767.25   \n",
            "1   0x06b51c6882b27cb05e712185531c1f74996dd988              823.82   \n",
            "21  0x330513970efd9e8dd606275fb4c50378989b3204              722.94   \n",
            "27  0x4814be124d7fe3b240eb46061f7ddfab468fe122              621.11   \n",
            "49  0x7399dbeebe2f88bc6ac4e3fd7ddb836a4bce322f             1769.56   \n",
            "88  0xd334d18fa6bada9a10f361bae42a019ce88a3c33             2744.58   \n",
            "92  0xded1f838ae6aa5fcd0f13481b37ee88e5bdccb3d              986.88   \n",
            "\n",
            "    total_borrowed_usd  reputation_score  utilization_rate  supplied_score  \\\n",
            "87             4564.14                25         18.958794        0.000721   \n",
            "71             4376.70                14          5.007952        0.066047   \n",
            "67             2199.43                88          9.409326        0.000000   \n",
            "13             1567.60                18          2.043141        0.055040   \n",
            "1              2527.03                38          3.067454        0.060876   \n",
            "21             4456.79                82          6.164813        0.050468   \n",
            "27             3125.92                70          5.032796        0.039963   \n",
            "49             4161.45                35          2.351686        0.158445   \n",
            "88             3889.30                19          1.417084        0.259035   \n",
            "92             2804.91                66          2.842200        0.077698   \n",
            "\n",
            "    borrowed_score  utilization_score  score  \n",
            "87        0.916927           1.000000     50  \n",
            "71        0.879117           0.263731    415  \n",
            "67        0.439934           0.496018    427  \n",
            "13        0.312486           0.107260    498  \n",
            "1         0.506015           0.161319    513  \n",
            "21        0.895273           0.324785    516  \n",
            "27        0.626819           0.265042    519  \n",
            "49        0.835699           0.123544    555  \n",
            "88        0.780803           0.074219    578  \n",
            "92        0.562067           0.149431    580  \n"
          ]
        }
      ]
    },
    {
      "cell_type": "markdown",
      "source": [
        "# **Save Excel File**"
      ],
      "metadata": {
        "id": "JfTGQpr_b-BT"
      }
    },
    {
      "cell_type": "code",
      "source": [
        "output_df.to_excel(\"wallet_risk_scores.xlsx\", index=False)\n",
        "print(\"Saved to wallet_risk_scores.xlsx\")"
      ],
      "metadata": {
        "colab": {
          "base_uri": "https://localhost:8080/"
        },
        "id": "odxxn5J-Wkth",
        "outputId": "6be65d1d-2e08-4417-bfe9-3ef1ab0a052c"
      },
      "execution_count": 17,
      "outputs": [
        {
          "output_type": "stream",
          "name": "stdout",
          "text": [
            "Saved to wallet_risk_scores.xlsx\n"
          ]
        }
      ]
    },
    {
      "cell_type": "markdown",
      "metadata": {
        "id": "ebb647e5"
      },
      "source": [
        "**Reasoning**:\n",
        "Select and scale the relevant features for clustering.\n",
        "\n"
      ]
    },
    {
      "cell_type": "markdown",
      "source": [
        "Unsupervised Validation: Since we don’t have labeled \"risky\" vs. \"safe\" wallet data, clustering allows us to group similar wallets and observe emergent patterns.\n",
        "\n",
        "Data-Driven Grouping: Clustering helps verify if wallets with similar feature behaviors fall into similar risk score ranges.\n",
        "\n",
        "Anomaly Detection: Clusters with high borrow and low repay/mint activity can act as early warning groups.\n",
        "\n",
        "Interpretability: Helps explain and potentially refine the scoring logic by analyzing the characteristics of each cluster"
      ],
      "metadata": {
        "id": "vJWpm9tIUfwu"
      }
    },
    {
      "cell_type": "code",
      "metadata": {
        "id": "0821116d"
      },
      "source": [
        "from sklearn.cluster import KMeans\n",
        "from sklearn.preprocessing import MinMaxScaler\n",
        "\n",
        "features_for_clustering = ['total_supplied_usd', 'total_borrowed_usd', 'utilization_rate', 'reputation_score']\n",
        "scaler = MinMaxScaler()\n",
        "scaled_features = scaler.fit_transform(df[features_for_clustering])"
      ],
      "execution_count": 18,
      "outputs": []
    },
    {
      "cell_type": "markdown",
      "metadata": {
        "id": "1bf5ed10"
      },
      "source": [
        "**Reasoning**:\n",
        "Apply K-Means clustering to the scaled features and add the cluster labels to the dataframe."
      ]
    },
    {
      "cell_type": "code",
      "metadata": {
        "id": "2520a5ea"
      },
      "source": [
        "kmeans = KMeans(n_clusters=4, random_state=42, n_init=10) # n_init=10 to suppress warning\n",
        "df['cluster_label'] = kmeans.fit_predict(scaled_features)"
      ],
      "execution_count": 19,
      "outputs": []
    },
    {
      "cell_type": "markdown",
      "metadata": {
        "id": "c5df6d83"
      },
      "source": [
        "**Reasoning**:\n",
        "Analyze the relationship between the cluster labels and the calculated risk scores by grouping by cluster and calculating the mean score for each cluster."
      ]
    },
    {
      "cell_type": "code",
      "metadata": {
        "colab": {
          "base_uri": "https://localhost:8080/"
        },
        "id": "f79ba844",
        "outputId": "151d4ac2-0468-40e1-9ccb-441805d39a40"
      },
      "source": [
        "cluster_score_analysis = df.groupby('cluster_label')['score'].mean().sort_values()\n",
        "print(\"Mean Risk Score per Cluster:\")\n",
        "print(cluster_score_analysis)"
      ],
      "execution_count": 20,
      "outputs": [
        {
          "output_type": "stream",
          "name": "stdout",
          "text": [
            "Mean Risk Score per Cluster:\n",
            "cluster_label\n",
            "3    568.722222\n",
            "2    670.541667\n",
            "0    734.111111\n",
            "1    879.588235\n",
            "Name: score, dtype: float64\n"
          ]
        }
      ]
    },
    {
      "cell_type": "markdown",
      "metadata": {
        "id": "0e594a59"
      },
      "source": [
        "**Reasoning**:\n",
        "Visualize the clusters in relation to the risk score using a scatter plot to further assess the alignment."
      ]
    },
    {
      "cell_type": "code",
      "source": [
        "from sklearn.cluster import KMeans\n",
        "from sklearn.preprocessing import StandardScaler\n",
        "\n",
        "# Define features for clustering\n",
        "features_for_clustering = ['total_supplied_usd', 'total_borrowed_usd', 'utilization_rate', 'reputation_score']\n",
        "\n",
        "# Normalize features again using StandardScaler (better for KMeans)\n",
        "scaler = StandardScaler()\n",
        "X_scaled = scaler.fit_transform(df[features_for_clustering])\n",
        "\n",
        "# Apply KMeans\n",
        "kmeans = KMeans(n_clusters=3, random_state=42)\n",
        "df['cluster'] = kmeans.fit_predict(X_scaled)"
      ],
      "metadata": {
        "id": "EO8kbg8ggsde"
      },
      "execution_count": 23,
      "outputs": []
    },
    {
      "cell_type": "code",
      "source": [
        "df['cluster']"
      ],
      "metadata": {
        "colab": {
          "base_uri": "https://localhost:8080/",
          "height": 458
        },
        "id": "uxCo8vi7gvDE",
        "outputId": "473a9ea8-f578-4077-f326-7ea536c6c83a"
      },
      "execution_count": 24,
      "outputs": [
        {
          "output_type": "execute_result",
          "data": {
            "text/plain": [
              "0      1\n",
              "1      2\n",
              "2      0\n",
              "3      2\n",
              "4      0\n",
              "      ..\n",
              "98     1\n",
              "99     1\n",
              "100    0\n",
              "101    0\n",
              "102    1\n",
              "Name: cluster, Length: 103, dtype: int32"
            ],
            "text/html": [
              "<div>\n",
              "<style scoped>\n",
              "    .dataframe tbody tr th:only-of-type {\n",
              "        vertical-align: middle;\n",
              "    }\n",
              "\n",
              "    .dataframe tbody tr th {\n",
              "        vertical-align: top;\n",
              "    }\n",
              "\n",
              "    .dataframe thead th {\n",
              "        text-align: right;\n",
              "    }\n",
              "</style>\n",
              "<table border=\"1\" class=\"dataframe\">\n",
              "  <thead>\n",
              "    <tr style=\"text-align: right;\">\n",
              "      <th></th>\n",
              "      <th>cluster</th>\n",
              "    </tr>\n",
              "  </thead>\n",
              "  <tbody>\n",
              "    <tr>\n",
              "      <th>0</th>\n",
              "      <td>1</td>\n",
              "    </tr>\n",
              "    <tr>\n",
              "      <th>1</th>\n",
              "      <td>2</td>\n",
              "    </tr>\n",
              "    <tr>\n",
              "      <th>2</th>\n",
              "      <td>0</td>\n",
              "    </tr>\n",
              "    <tr>\n",
              "      <th>3</th>\n",
              "      <td>2</td>\n",
              "    </tr>\n",
              "    <tr>\n",
              "      <th>4</th>\n",
              "      <td>0</td>\n",
              "    </tr>\n",
              "    <tr>\n",
              "      <th>...</th>\n",
              "      <td>...</td>\n",
              "    </tr>\n",
              "    <tr>\n",
              "      <th>98</th>\n",
              "      <td>1</td>\n",
              "    </tr>\n",
              "    <tr>\n",
              "      <th>99</th>\n",
              "      <td>1</td>\n",
              "    </tr>\n",
              "    <tr>\n",
              "      <th>100</th>\n",
              "      <td>0</td>\n",
              "    </tr>\n",
              "    <tr>\n",
              "      <th>101</th>\n",
              "      <td>0</td>\n",
              "    </tr>\n",
              "    <tr>\n",
              "      <th>102</th>\n",
              "      <td>1</td>\n",
              "    </tr>\n",
              "  </tbody>\n",
              "</table>\n",
              "<p>103 rows × 1 columns</p>\n",
              "</div><br><label><b>dtype:</b> int32</label>"
            ]
          },
          "metadata": {},
          "execution_count": 24
        }
      ]
    },
    {
      "cell_type": "code",
      "source": [
        "from sklearn.decomposition import PCA\n",
        "import matplotlib.pyplot as plt\n",
        "\n",
        "pca = PCA(n_components=2)\n",
        "components = pca.fit_transform(X_scaled)\n",
        "\n",
        "plt.scatter(components[:, 0], components[:, 1], c=df['cluster'], cmap='viridis')\n",
        "plt.title(\"Wallet Clustering using PCA\")\n",
        "plt.xlabel(\"PC1\")\n",
        "plt.ylabel(\"PC2\")\n",
        "plt.colorbar(label='Cluster ID')\n",
        "plt.show()"
      ],
      "metadata": {
        "colab": {
          "base_uri": "https://localhost:8080/",
          "height": 480
        },
        "id": "nnUkixYYg3M_",
        "outputId": "329eaa85-e1bd-492e-eba6-77ffb4553f9b"
      },
      "execution_count": 25,
      "outputs": [
        {
          "output_type": "display_data",
          "data": {
            "text/plain": [
              "<Figure size 640x480 with 2 Axes>"
            ],
            "image/png": "[encoded data removed]"
          },
          "metadata": {}
        }
      ]
    },
    {
      "cell_type": "code",
      "source": [],
      "metadata": {
        "id": "amQgL-lKSSV9"
      },
      "execution_count": null,
      "outputs": []
    }
  ]
}